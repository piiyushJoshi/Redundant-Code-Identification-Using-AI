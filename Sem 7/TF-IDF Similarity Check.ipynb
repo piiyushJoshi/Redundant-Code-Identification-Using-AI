{
  "nbformat": 4,
  "nbformat_minor": 0,
  "metadata": {
    "colab": {
      "provenance": []
    },
    "kernelspec": {
      "name": "python3",
      "display_name": "Python 3"
    },
    "language_info": {
      "name": "python"
    }
  },
  "cells": [
    {
      "cell_type": "code",
      "source": [
        "# Import necessary libraries\n",
        "import pandas as pd\n",
        "import nltk\n",
        "from sklearn.feature_extraction.text import TfidfVectorizer\n",
        "from sklearn.metrics.pairwise import cosine_similarity\n",
        "\n",
        "# Download NLTK resources\n",
        "nltk.download('punkt')\n",
        "\n",
        "# Load the dataset\n",
        "# You can create a dataset of code snippets or use a public dataset and adapt it\n",
        "data = pd.DataFrame({\n",
        "    'code_snippet': [\n",
        "        'for i in range(10): print(i)',\n",
        "        'for i in range(10): print(i)',\n",
        "        'if x > 10: print(\"Greater than 10\")',\n",
        "        'for i in range(10): print(i)',\n",
        "        'if x > 10: print(\"Greater than 10\")'\n",
        "    ]\n",
        "})\n",
        "\n",
        "# Display dataset\n",
        "print(data)\n",
        "\n",
        "# Preprocess the code snippets\n",
        "def preprocess_text(text):\n",
        "    return ' '.join(nltk.word_tokenize(text))\n",
        "\n",
        "data['processed_code'] = data['code_snippet'].apply(preprocess_text)\n",
        "\n",
        "# Use TF-IDF vectorization to convert code to numerical form\n",
        "vectorizer = TfidfVectorizer()\n",
        "tfidf_matrix = vectorizer.fit_transform(data['processed_code'])\n",
        "\n",
        "# Calculate cosine similarity between code snippets\n",
        "cosine_sim = cosine_similarity(tfidf_matrix, tfidf_matrix)\n",
        "\n",
        "# Display similarity matrix\n",
        "print(\"\\nCosine Similarity Matrix:\")\n",
        "print(cosine_sim)\n",
        "print(\"\\n\")\n",
        "\n",
        "# Define a threshold to detect redundant code (similarity > 0.9)\n",
        "threshold = 0.9\n",
        "for i in range(len(data)):\n",
        "    for j in range(i+1, len(data)):\n",
        "        if cosine_sim[i][j] > threshold:\n",
        "            print(f\"Redundant code detected between snippet {i+1} and snippet {j+1}\")"
      ],
      "metadata": {
        "colab": {
          "base_uri": "https://localhost:8080/"
        },
        "id": "qDe6V1uUFXrS",
        "outputId": "8ba97dad-9710-40ef-b3f4-5dcecc330a0f"
      },
      "execution_count": null,
      "outputs": [
        {
          "output_type": "stream",
          "name": "stdout",
          "text": [
            "                          code_snippet\n",
            "0         for i in range(10): print(i)\n",
            "1         for i in range(10): print(i)\n",
            "2  if x > 10: print(\"Greater than 10\")\n",
            "3         for i in range(10): print(i)\n",
            "4  if x > 10: print(\"Greater than 10\")\n",
            "\n",
            "Cosine Similarity Matrix:\n",
            "[[1.         1.         0.28894887 1.         0.28894887]\n",
            " [1.         1.         0.28894887 1.         0.28894887]\n",
            " [0.28894887 0.28894887 1.         0.28894887 1.        ]\n",
            " [1.         1.         0.28894887 1.         0.28894887]\n",
            " [0.28894887 0.28894887 1.         0.28894887 1.        ]]\n",
            "\n",
            "\n",
            "Redundant code detected between snippet 1 and snippet 2\n",
            "Redundant code detected between snippet 1 and snippet 4\n",
            "Redundant code detected between snippet 2 and snippet 4\n",
            "Redundant code detected between snippet 3 and snippet 5\n"
          ]
        },
        {
          "output_type": "stream",
          "name": "stderr",
          "text": [
            "[nltk_data] Downloading package punkt to /root/nltk_data...\n",
            "[nltk_data]   Package punkt is already up-to-date!\n"
          ]
        }
      ]
    }
  ]
}